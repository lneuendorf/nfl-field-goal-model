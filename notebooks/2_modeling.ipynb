{
 "cells": [
  {
   "cell_type": "markdown",
   "id": "ba78d6cf",
   "metadata": {},
   "source": []
  }
 ],
 "metadata": {
  "kernelspec": {
   "display_name": "nfl-fg",
   "language": "python",
   "name": "python3"
  },
  "language_info": {
   "name": "python",
   "version": "3.11.9"
  }
 },
 "nbformat": 4,
 "nbformat_minor": 5
}
