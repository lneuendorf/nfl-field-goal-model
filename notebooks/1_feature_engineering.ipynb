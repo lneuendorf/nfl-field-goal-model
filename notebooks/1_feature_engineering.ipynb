{
 "cells": [
  {
   "cell_type": "markdown",
   "id": "c17a8eb5",
   "metadata": {},
   "source": [
    "# i. Data Imports"
   ]
  },
  {
   "cell_type": "code",
   "execution_count": null,
   "id": "a6b67a2d",
   "metadata": {},
   "outputs": [],
   "source": []
  }
 ],
 "metadata": {
  "kernelspec": {
   "display_name": "nfl-fg",
   "language": "python",
   "name": "python3"
  },
  "language_info": {
   "name": "python",
   "version": "3.11.9"
  }
 },
 "nbformat": 4,
 "nbformat_minor": 5
}
